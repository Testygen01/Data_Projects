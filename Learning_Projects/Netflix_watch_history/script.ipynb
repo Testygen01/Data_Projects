{
 "cells": [
  {
   "cell_type": "markdown",
   "id": "4e4d0fee-a800-4944-87a5-c6173651c746",
   "metadata": {},
   "source": [
    "# Mini Project: Analyzing Netflix Watch History\n",
    "\n",
    "## Goal:\n",
    "1. Load and inspect data\n",
    "2. Clean data\n",
    "3. Derive some insight\n",
    "4. Save the result to a csv file\n",
    "\n",
    "### Dataset: \n",
    "I am creating my own mini Netflix watch log for this mini project.\n",
    "\n",
    "### Environement:\n",
    "- WSL: Ubuntu distro\n",
    "- Python\n",
    "- JupterLab\n",
    "- Git\n"
   ]
  },
  {
   "cell_type": "code",
   "execution_count": 1,
   "id": "f5f49ddd-b0a4-4bbe-884f-6315928ad6fa",
   "metadata": {},
   "outputs": [],
   "source": [
    "import pandas as pd"
   ]
  },
  {
   "cell_type": "code",
   "execution_count": 2,
   "id": "df894529-c41e-4f1d-962f-e6dd946ba5e8",
   "metadata": {},
   "outputs": [],
   "source": [
    "# Load the data\n",
    "\n",
    "df = pd.read_csv(\"netflix_log.csv\")"
   ]
  },
  {
   "cell_type": "code",
   "execution_count": 3,
   "id": "0fad236c-da3d-42e2-9b0e-701c330215a9",
   "metadata": {},
   "outputs": [
    {
     "data": {
      "text/html": [
       "<div>\n",
       "<style scoped>\n",
       "    .dataframe tbody tr th:only-of-type {\n",
       "        vertical-align: middle;\n",
       "    }\n",
       "\n",
       "    .dataframe tbody tr th {\n",
       "        vertical-align: top;\n",
       "    }\n",
       "\n",
       "    .dataframe thead th {\n",
       "        text-align: right;\n",
       "    }\n",
       "</style>\n",
       "<table border=\"1\" class=\"dataframe\">\n",
       "  <thead>\n",
       "    <tr style=\"text-align: right;\">\n",
       "      <th></th>\n",
       "      <th>Title</th>\n",
       "      <th>Date</th>\n",
       "      <th>Duration (min)</th>\n",
       "      <th>Genre</th>\n",
       "    </tr>\n",
       "  </thead>\n",
       "  <tbody>\n",
       "    <tr>\n",
       "      <th>0</th>\n",
       "      <td>The Office</td>\n",
       "      <td>2024-03-01</td>\n",
       "      <td>22</td>\n",
       "      <td>Comedy</td>\n",
       "    </tr>\n",
       "    <tr>\n",
       "      <th>1</th>\n",
       "      <td>Breaking Bad</td>\n",
       "      <td>2024-03-02</td>\n",
       "      <td>47</td>\n",
       "      <td>Drama</td>\n",
       "    </tr>\n",
       "    <tr>\n",
       "      <th>2</th>\n",
       "      <td>The Office</td>\n",
       "      <td>2024-03-02</td>\n",
       "      <td>21</td>\n",
       "      <td>Comedy</td>\n",
       "    </tr>\n",
       "    <tr>\n",
       "      <th>3</th>\n",
       "      <td>Stranger Things</td>\n",
       "      <td>2024-03-03</td>\n",
       "      <td>50</td>\n",
       "      <td>Sci-Fi</td>\n",
       "    </tr>\n",
       "    <tr>\n",
       "      <th>4</th>\n",
       "      <td>The Crown</td>\n",
       "      <td>2024-03-04</td>\n",
       "      <td>58</td>\n",
       "      <td>Drama</td>\n",
       "    </tr>\n",
       "  </tbody>\n",
       "</table>\n",
       "</div>"
      ],
      "text/plain": [
       "             Title        Date  Duration (min)   Genre\n",
       "0       The Office  2024-03-01              22  Comedy\n",
       "1     Breaking Bad  2024-03-02              47   Drama\n",
       "2       The Office  2024-03-02              21  Comedy\n",
       "3  Stranger Things  2024-03-03              50  Sci-Fi\n",
       "4        The Crown  2024-03-04              58   Drama"
      ]
     },
     "execution_count": 3,
     "metadata": {},
     "output_type": "execute_result"
    }
   ],
   "source": [
    "# inspect the data\n",
    "\n",
    "df.head()"
   ]
  },
  {
   "cell_type": "code",
   "execution_count": 4,
   "id": "dcfeaab2-48b3-4e03-a35e-b9cd2a607860",
   "metadata": {},
   "outputs": [
    {
     "name": "stdout",
     "output_type": "stream",
     "text": [
      "Title             0\n",
      "Date              0\n",
      "Duration (min)    0\n",
      "Genre             0\n",
      "dtype: int64\n"
     ]
    }
   ],
   "source": [
    "# Clean the data: check for missing values\n",
    "# rename \"Duration (min)\" to \"Duration_min\"\n",
    "\n",
    "print(df.isnull().sum())\n",
    "df.rename(columns={\"Duration (min)\": \"Duration_min\"}, inplace=True)"
   ]
  },
  {
   "cell_type": "markdown",
   "id": "de242324-a459-4be8-aa13-32376b9e70f4",
   "metadata": {},
   "source": [
    "### Basic Analysis\n",
    "1. Which genre did the user watch the most?\n",
    "2. How many minutes were spent watching *The Office.*\n",
    "3. What was the average watch time per show?"
   ]
  },
  {
   "cell_type": "code",
   "execution_count": 6,
   "id": "dab19dac-79ad-4b20-b88d-c79734473bb4",
   "metadata": {},
   "outputs": [
    {
     "data": {
      "text/html": [
       "<div>\n",
       "<style scoped>\n",
       "    .dataframe tbody tr th:only-of-type {\n",
       "        vertical-align: middle;\n",
       "    }\n",
       "\n",
       "    .dataframe tbody tr th {\n",
       "        vertical-align: top;\n",
       "    }\n",
       "\n",
       "    .dataframe thead th {\n",
       "        text-align: right;\n",
       "    }\n",
       "</style>\n",
       "<table border=\"1\" class=\"dataframe\">\n",
       "  <thead>\n",
       "    <tr style=\"text-align: right;\">\n",
       "      <th></th>\n",
       "      <th>Title</th>\n",
       "      <th>Date</th>\n",
       "      <th>Duration_min</th>\n",
       "      <th>Genre</th>\n",
       "    </tr>\n",
       "  </thead>\n",
       "  <tbody>\n",
       "    <tr>\n",
       "      <th>0</th>\n",
       "      <td>The Office</td>\n",
       "      <td>2024-03-01</td>\n",
       "      <td>22</td>\n",
       "      <td>Comedy</td>\n",
       "    </tr>\n",
       "    <tr>\n",
       "      <th>1</th>\n",
       "      <td>Breaking Bad</td>\n",
       "      <td>2024-03-02</td>\n",
       "      <td>47</td>\n",
       "      <td>Drama</td>\n",
       "    </tr>\n",
       "    <tr>\n",
       "      <th>2</th>\n",
       "      <td>The Office</td>\n",
       "      <td>2024-03-02</td>\n",
       "      <td>21</td>\n",
       "      <td>Comedy</td>\n",
       "    </tr>\n",
       "    <tr>\n",
       "      <th>3</th>\n",
       "      <td>Stranger Things</td>\n",
       "      <td>2024-03-03</td>\n",
       "      <td>50</td>\n",
       "      <td>Sci-Fi</td>\n",
       "    </tr>\n",
       "    <tr>\n",
       "      <th>4</th>\n",
       "      <td>The Crown</td>\n",
       "      <td>2024-03-04</td>\n",
       "      <td>58</td>\n",
       "      <td>Drama</td>\n",
       "    </tr>\n",
       "  </tbody>\n",
       "</table>\n",
       "</div>"
      ],
      "text/plain": [
       "             Title        Date  Duration_min   Genre\n",
       "0       The Office  2024-03-01            22  Comedy\n",
       "1     Breaking Bad  2024-03-02            47   Drama\n",
       "2       The Office  2024-03-02            21  Comedy\n",
       "3  Stranger Things  2024-03-03            50  Sci-Fi\n",
       "4        The Crown  2024-03-04            58   Drama"
      ]
     },
     "execution_count": 6,
     "metadata": {},
     "output_type": "execute_result"
    }
   ],
   "source": [
    "df.head()"
   ]
  },
  {
   "cell_type": "code",
   "execution_count": 13,
   "id": "33f45ce0-8434-47df-b594-d5eeee7a7cb6",
   "metadata": {},
   "outputs": [
    {
     "name": "stdout",
     "output_type": "stream",
     "text": [
      "Genre\n",
      "Comedy    3\n",
      "Drama     2\n",
      "Sci-Fi    1\n",
      "Name: count, dtype: int64\n",
      "68\n",
      "Title\n",
      "Breaking Bad       47.000000\n",
      "Stranger Things    50.000000\n",
      "The Crown          58.000000\n",
      "The Office         22.666667\n",
      "Name: Duration_min, dtype: float64\n"
     ]
    }
   ],
   "source": [
    "print(df[\"Genre\"].value_counts())\n",
    "print(df[df[\"Title\"] == \"The Office\"][\"Duration_min\"].sum())\n",
    "print(df.groupby(\"Title\")[\"Duration_min\"].mean())"
   ]
  },
  {
   "cell_type": "markdown",
   "id": "0d63abe0-8de2-457f-8060-b7294389e80d",
   "metadata": {},
   "source": [
    "### Summary\n",
    "\n",
    "- The user watched Comedy movies the most.\n",
    "- The user watched *The Office* for 68 minutes.\n",
    "- *The Crown* has the highest average watch time. Popular? not conclusive; my data is very short and madeup."
   ]
  },
  {
   "cell_type": "code",
   "execution_count": 14,
   "id": "b54ce54d-00ac-4543-a049-ad574c201e5b",
   "metadata": {},
   "outputs": [],
   "source": [
    "# Save to a csv\n",
    "\n",
    "average_watch = df.groupby(\"Title\")[\"Duration_min\"].mean()\n",
    "average_watch.to_csv(\"average_watch_time.csv\")"
   ]
  },
  {
   "cell_type": "code",
   "execution_count": null,
   "id": "b595f96e-06c6-4578-96cc-47be1756427f",
   "metadata": {},
   "outputs": [],
   "source": []
  }
 ],
 "metadata": {
  "kernelspec": {
   "display_name": "Python 3 (ipykernel)",
   "language": "python",
   "name": "python3"
  },
  "language_info": {
   "codemirror_mode": {
    "name": "ipython",
    "version": 3
   },
   "file_extension": ".py",
   "mimetype": "text/x-python",
   "name": "python",
   "nbconvert_exporter": "python",
   "pygments_lexer": "ipython3",
   "version": "3.10.12"
  }
 },
 "nbformat": 4,
 "nbformat_minor": 5
}
