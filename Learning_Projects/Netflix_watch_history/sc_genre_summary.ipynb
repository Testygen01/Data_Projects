{
 "cells": [
  {
   "cell_type": "markdown",
   "id": "4a4acc9e-e13d-467e-bb33-aade07e71934",
   "metadata": {},
   "source": [
    "# Stretch Challenge - Genre Summary\n",
    "\n",
    "Use the netflix dataset and complete this challenge:\n",
    "\n",
    "### Task: Group the data by `Genre` and compute:\n",
    "\n",
    "- The total number of titles in each genre\n",
    "- The avergae duration of each genre\n",
    "- Sort it by the total number of titles (descending)\n",
    "\n",
    "### Bonus: Plot a bar chart of top 5 genres by count using `matplotlib` or `pandas.plot().`"
   ]
  },
  {
   "cell_type": "code",
   "execution_count": 1,
   "id": "f0cc3d32-1ac4-4139-be49-443f2d26b2a3",
   "metadata": {},
   "outputs": [],
   "source": [
    "import pandas as pd"
   ]
  },
  {
   "cell_type": "code",
   "execution_count": 2,
   "id": "d863fca9-44d0-4ad2-bdef-bb12686563ac",
   "metadata": {},
   "outputs": [],
   "source": [
    "# Load the data\n",
    "df = pd.read_csv(\"netflix_log.csv\")"
   ]
  },
  {
   "cell_type": "code",
   "execution_count": 3,
   "id": "beee5ec9-e618-42af-bbc0-f4363ad7203c",
   "metadata": {},
   "outputs": [
    {
     "data": {
      "text/html": [
       "<div>\n",
       "<style scoped>\n",
       "    .dataframe tbody tr th:only-of-type {\n",
       "        vertical-align: middle;\n",
       "    }\n",
       "\n",
       "    .dataframe tbody tr th {\n",
       "        vertical-align: top;\n",
       "    }\n",
       "\n",
       "    .dataframe thead th {\n",
       "        text-align: right;\n",
       "    }\n",
       "</style>\n",
       "<table border=\"1\" class=\"dataframe\">\n",
       "  <thead>\n",
       "    <tr style=\"text-align: right;\">\n",
       "      <th></th>\n",
       "      <th>Title</th>\n",
       "      <th>Date</th>\n",
       "      <th>Duration (min)</th>\n",
       "      <th>Genre</th>\n",
       "    </tr>\n",
       "  </thead>\n",
       "  <tbody>\n",
       "    <tr>\n",
       "      <th>0</th>\n",
       "      <td>The Office</td>\n",
       "      <td>2024-03-01</td>\n",
       "      <td>22</td>\n",
       "      <td>Comedy</td>\n",
       "    </tr>\n",
       "    <tr>\n",
       "      <th>1</th>\n",
       "      <td>Breaking Bad</td>\n",
       "      <td>2024-03-02</td>\n",
       "      <td>47</td>\n",
       "      <td>Drama</td>\n",
       "    </tr>\n",
       "    <tr>\n",
       "      <th>2</th>\n",
       "      <td>The Office</td>\n",
       "      <td>2024-03-02</td>\n",
       "      <td>21</td>\n",
       "      <td>Comedy</td>\n",
       "    </tr>\n",
       "    <tr>\n",
       "      <th>3</th>\n",
       "      <td>Stranger Things</td>\n",
       "      <td>2024-03-03</td>\n",
       "      <td>50</td>\n",
       "      <td>Sci-Fi</td>\n",
       "    </tr>\n",
       "    <tr>\n",
       "      <th>4</th>\n",
       "      <td>The Crown</td>\n",
       "      <td>2024-03-04</td>\n",
       "      <td>58</td>\n",
       "      <td>Drama</td>\n",
       "    </tr>\n",
       "  </tbody>\n",
       "</table>\n",
       "</div>"
      ],
      "text/plain": [
       "             Title        Date  Duration (min)   Genre\n",
       "0       The Office  2024-03-01              22  Comedy\n",
       "1     Breaking Bad  2024-03-02              47   Drama\n",
       "2       The Office  2024-03-02              21  Comedy\n",
       "3  Stranger Things  2024-03-03              50  Sci-Fi\n",
       "4        The Crown  2024-03-04              58   Drama"
      ]
     },
     "execution_count": 3,
     "metadata": {},
     "output_type": "execute_result"
    }
   ],
   "source": [
    "# inspect the data\n",
    "df.head()"
   ]
  },
  {
   "cell_type": "code",
   "execution_count": 6,
   "id": "7e49d7d5-d0ba-457f-b464-37a1fd1cbeac",
   "metadata": {},
   "outputs": [
    {
     "data": {
      "text/html": [
       "<div>\n",
       "<style scoped>\n",
       "    .dataframe tbody tr th:only-of-type {\n",
       "        vertical-align: middle;\n",
       "    }\n",
       "\n",
       "    .dataframe tbody tr th {\n",
       "        vertical-align: top;\n",
       "    }\n",
       "\n",
       "    .dataframe thead th {\n",
       "        text-align: right;\n",
       "    }\n",
       "</style>\n",
       "<table border=\"1\" class=\"dataframe\">\n",
       "  <thead>\n",
       "    <tr style=\"text-align: right;\">\n",
       "      <th></th>\n",
       "      <th>Title</th>\n",
       "      <th>Date</th>\n",
       "      <th>Duration_min</th>\n",
       "      <th>Genre</th>\n",
       "    </tr>\n",
       "  </thead>\n",
       "  <tbody>\n",
       "    <tr>\n",
       "      <th>0</th>\n",
       "      <td>The Office</td>\n",
       "      <td>2024-03-01</td>\n",
       "      <td>22</td>\n",
       "      <td>Comedy</td>\n",
       "    </tr>\n",
       "    <tr>\n",
       "      <th>1</th>\n",
       "      <td>Breaking Bad</td>\n",
       "      <td>2024-03-02</td>\n",
       "      <td>47</td>\n",
       "      <td>Drama</td>\n",
       "    </tr>\n",
       "    <tr>\n",
       "      <th>2</th>\n",
       "      <td>The Office</td>\n",
       "      <td>2024-03-02</td>\n",
       "      <td>21</td>\n",
       "      <td>Comedy</td>\n",
       "    </tr>\n",
       "    <tr>\n",
       "      <th>3</th>\n",
       "      <td>Stranger Things</td>\n",
       "      <td>2024-03-03</td>\n",
       "      <td>50</td>\n",
       "      <td>Sci-Fi</td>\n",
       "    </tr>\n",
       "    <tr>\n",
       "      <th>4</th>\n",
       "      <td>The Crown</td>\n",
       "      <td>2024-03-04</td>\n",
       "      <td>58</td>\n",
       "      <td>Drama</td>\n",
       "    </tr>\n",
       "  </tbody>\n",
       "</table>\n",
       "</div>"
      ],
      "text/plain": [
       "             Title        Date  Duration_min   Genre\n",
       "0       The Office  2024-03-01            22  Comedy\n",
       "1     Breaking Bad  2024-03-02            47   Drama\n",
       "2       The Office  2024-03-02            21  Comedy\n",
       "3  Stranger Things  2024-03-03            50  Sci-Fi\n",
       "4        The Crown  2024-03-04            58   Drama"
      ]
     },
     "execution_count": 6,
     "metadata": {},
     "output_type": "execute_result"
    }
   ],
   "source": [
    "# Change \"Duration (min)\" to \"Duration_min\"\n",
    "df.rename(columns={\"Duration (min)\": \"Duration_min\"}, inplace=True)\n",
    "df.head()"
   ]
  },
  {
   "cell_type": "code",
   "execution_count": 11,
   "id": "844ae45a-e352-488a-9469-7e8a4887bdb2",
   "metadata": {},
   "outputs": [
    {
     "name": "stdout",
     "output_type": "stream",
     "text": [
      "Genre   Title            Date        Duration_min\n",
      "Comedy  The Office       2024-03-01  22              1\n",
      "                         2024-03-02  21              1\n",
      "                         2024-03-04  25              1\n",
      "Drama   Breaking Bad     2024-03-02  47              1\n",
      "        The Crown        2024-03-04  58              1\n",
      "Sci-Fi  Stranger Things  2024-03-03  50              1\n",
      "Name: count, dtype: int64\n"
     ]
    }
   ],
   "source": [
    "# Total number of titles in each genre\n",
    "print(df.groupby(\"Genre\").value_counts())"
   ]
  },
  {
   "cell_type": "code",
   "execution_count": 13,
   "id": "43d4eeea-4985-440d-9a78-8e3375a72b46",
   "metadata": {},
   "outputs": [
    {
     "name": "stdout",
     "output_type": "stream",
     "text": [
      "Genre\n",
      "Comedy    22.666667\n",
      "Drama     52.500000\n",
      "Sci-Fi    50.000000\n",
      "Name: Duration_min, dtype: float64\n"
     ]
    }
   ],
   "source": [
    "# The average duration of each genre\n",
    "print(df.groupby(\"Genre\")[\"Duration_min\"].mean())"
   ]
  },
  {
   "cell_type": "code",
   "execution_count": 15,
   "id": "244e3144-7e41-484b-9cc9-3a39483150c0",
   "metadata": {},
   "outputs": [
    {
     "name": "stdout",
     "output_type": "stream",
     "text": [
      "Title\n",
      "The Office         3\n",
      "Breaking Bad       1\n",
      "Stranger Things    1\n",
      "The Crown          1\n",
      "Name: count, dtype: int64\n"
     ]
    }
   ],
   "source": [
    "# Sort by total number of titles in descending order\n",
    "title_counts = df[\"Title\"].value_counts()\n",
    "print(title_counts.sort_values(ascending=False))"
   ]
  },
  {
   "cell_type": "code",
   "execution_count": null,
   "id": "556759e9-853a-4399-a455-f24c0f69c428",
   "metadata": {},
   "outputs": [],
   "source": []
  }
 ],
 "metadata": {
  "kernelspec": {
   "display_name": "Python 3 (ipykernel)",
   "language": "python",
   "name": "python3"
  },
  "language_info": {
   "codemirror_mode": {
    "name": "ipython",
    "version": 3
   },
   "file_extension": ".py",
   "mimetype": "text/x-python",
   "name": "python",
   "nbconvert_exporter": "python",
   "pygments_lexer": "ipython3",
   "version": "3.10.12"
  }
 },
 "nbformat": 4,
 "nbformat_minor": 5
}
